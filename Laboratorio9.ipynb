{
 "cells": [
  {
   "cell_type": "code",
   "execution_count": 40,
   "metadata": {},
   "outputs": [],
   "source": [
    "# baseline cnn model for fashion mnist\n",
    "from numpy import mean\n",
    "from numpy import std\n",
    "from matplotlib import pyplot\n",
    "from sklearn.model_selection import KFold\n",
    "from tensorflow.keras.datasets import fashion_mnist\n",
    "from tensorflow.keras.utils import to_categorical\n",
    "from tensorflow.keras.models import Sequential\n",
    "from tensorflow.keras.layers import Conv2D\n",
    "from tensorflow.keras.layers import MaxPooling2D\n",
    "from tensorflow.keras.layers import Dense\n",
    "from tensorflow.keras.layers import Flatten\n",
    "from tensorflow.keras.optimizers import SGD\n",
    "from timeit import default_timer as timer\n",
    "\n",
    "#se ha vuelto todo el procedimiento funciones, para poder hacerlo mas rapido\n",
    "# lectura de datos de entrenamiento y testeo de fashion MNIST\n",
    "def lectura_datos():\n",
    "    # lectura de datos\n",
    "    (trainX, trainY), (testX, testY) = fashion_mnist.load_data()\n",
    "    # reshape de los datos para ser single channel\n",
    "    trainX = trainX.reshape((trainX.shape[0], 28, 28, 1))\n",
    "    testX = testX.reshape((testX.shape[0], 28, 28, 1))\n",
    "    # one hot encoder target values\n",
    "    trainY = to_categorical(trainY)\n",
    "    testY = to_categorical(testY)\n",
    "    \n",
    "    #retorna los datos listos\n",
    "    return trainX, trainY, testX, testY\n",
    "\n",
    "# escalar los pixeles\n",
    "def preparado_datos(train, test):\n",
    "    #convertimos a valores entre 0 y 1\n",
    "    train_norm = train.astype('float32')\n",
    "    test_norm = test.astype('float32')\n",
    "    # normalizamos\n",
    "    train_norm = train_norm / 255.0\n",
    "    test_norm = test_norm / 255.0\n",
    "    # retornamos los datos\n",
    "    return train_norm, test_norm\n",
    "\n",
    "# definir modelo CNN\n",
    "def definir_modelo():\n",
    "    model = Sequential()\n",
    "    model.add(Conv2D(32, (3, 3), activation='relu', kernel_initializer='he_uniform', input_shape=(28, 28, 1)))\n",
    "    model.add(MaxPooling2D((2, 2)))\n",
    "    model.add(Flatten())\n",
    "    model.add(Dense(100, activation='relu', kernel_initializer='he_uniform'))\n",
    "    model.add(Dense(10, activation='softmax'))\n",
    "    #Compilar el modelo\n",
    "    opt = SGD(lr=0.01, momentum=0.9)\n",
    "    model.compile(optimizer=opt, loss='categorical_crossentropy', metrics=['accuracy'])\n",
    "    return model\n",
    "\n",
    "# Evaluacion usando k-fold cross-validation\n",
    "def evaluar_modelo(dataX, dataY, n_folds=5):\n",
    "    scores, histories = list(), list()\n",
    "    #preparar para la validacion cross\n",
    "    kfold = KFold(n_folds, shuffle=True, random_state=1)\n",
    "    # hacemos las separaciones y recorremos las mismas\n",
    "    for train_ix, test_ix in kfold.split(dataX):\n",
    "        # definir el modelo\n",
    "        model = definir_modelo()\n",
    "        # seleccionar los valores de train y test para esta corrida\n",
    "        trainX, trainY, testX, testY = dataX[train_ix], dataY[train_ix], dataX[test_ix], dataY[test_ix]\n",
    "        # ajustar el modelo\n",
    "        history = model.fit(trainX, trainY, epochs=10, batch_size=32, validation_data=(testX, testY), verbose=0)\n",
    "        # evaluar el modelo\n",
    "        _, acc = model.evaluate(testX, testY, verbose=0)\n",
    "        print('> %.3f' % (acc * 100.0))\n",
    "        # guardamos los scores\n",
    "        scores.append(acc)\n",
    "        histories.append(history)\n",
    "    return scores, histories\n",
    "\n",
    "# graficos de aprendizaje\n",
    "def diagnostico(histories):\n",
    "    for i in range(len(histories)):\n",
    "        # plot Perdidas\n",
    "        pyplot.subplot(211)\n",
    "        pyplot.title('Perdida Cross Entropy')\n",
    "        pyplot.plot(histories[i].history['loss'], color='blue', label='entrenamiento')\n",
    "        pyplot.plot(histories[i].history['val_loss'], color='orange', label='test')\n",
    "        # plot precision\n",
    "        pyplot.subplot(212)\n",
    "        pyplot.title('Precision de la Clasificacion')\n",
    "        pyplot.plot(histories[i].history['acc'], color='blue', label='entrenamiento')\n",
    "        pyplot.plot(histories[i].history['val_acc'], color='orange', label='test')\n",
    "    pyplot.show()\n",
    "\n",
    "#resumen del reporte estadisticamente\n",
    "def performance(scores):\n",
    "    # imprimir reporte\n",
    "    print('Precision: media=%.3f std=%.3f, n=%d' % (mean(scores)*100, std(scores)*100, len(scores)))\n",
    "    # grafico de cajas\n",
    "    pyplot.boxplot(scores)\n",
    "    pyplot.show()\n",
    "    "
   ]
  },
  {
   "cell_type": "code",
   "execution_count": 41,
   "metadata": {},
   "outputs": [
    {
     "name": "stdout",
     "output_type": "stream",
     "text": [
      "> 90.792\n",
      "> 91.258\n",
      "> 90.758\n",
      "> 90.767\n",
      "> 91.008\n"
     ]
    },
    {
     "name": "stderr",
     "output_type": "stream",
     "text": [
      "C:\\Users\\jhoel\\anaconda3\\lib\\site-packages\\ipykernel_launcher.py:80: MatplotlibDeprecationWarning: Adding an axes using the same arguments as a previous axes currently reuses the earlier instance.  In a future version, a new instance will always be created and returned.  Meanwhile, this warning can be suppressed, and the future behavior ensured, by passing a unique label to each axes instance.\n",
      "C:\\Users\\jhoel\\anaconda3\\lib\\site-packages\\ipykernel_launcher.py:85: MatplotlibDeprecationWarning: Adding an axes using the same arguments as a previous axes currently reuses the earlier instance.  In a future version, a new instance will always be created and returned.  Meanwhile, this warning can be suppressed, and the future behavior ensured, by passing a unique label to each axes instance.\n",
      "C:\\Users\\jhoel\\anaconda3\\lib\\site-packages\\ipykernel_launcher.py:80: MatplotlibDeprecationWarning: Adding an axes using the same arguments as a previous axes currently reuses the earlier instance.  In a future version, a new instance will always be created and returned.  Meanwhile, this warning can be suppressed, and the future behavior ensured, by passing a unique label to each axes instance.\n",
      "C:\\Users\\jhoel\\anaconda3\\lib\\site-packages\\ipykernel_launcher.py:85: MatplotlibDeprecationWarning: Adding an axes using the same arguments as a previous axes currently reuses the earlier instance.  In a future version, a new instance will always be created and returned.  Meanwhile, this warning can be suppressed, and the future behavior ensured, by passing a unique label to each axes instance.\n",
      "C:\\Users\\jhoel\\anaconda3\\lib\\site-packages\\ipykernel_launcher.py:80: MatplotlibDeprecationWarning: Adding an axes using the same arguments as a previous axes currently reuses the earlier instance.  In a future version, a new instance will always be created and returned.  Meanwhile, this warning can be suppressed, and the future behavior ensured, by passing a unique label to each axes instance.\n",
      "C:\\Users\\jhoel\\anaconda3\\lib\\site-packages\\ipykernel_launcher.py:85: MatplotlibDeprecationWarning: Adding an axes using the same arguments as a previous axes currently reuses the earlier instance.  In a future version, a new instance will always be created and returned.  Meanwhile, this warning can be suppressed, and the future behavior ensured, by passing a unique label to each axes instance.\n",
      "C:\\Users\\jhoel\\anaconda3\\lib\\site-packages\\ipykernel_launcher.py:80: MatplotlibDeprecationWarning: Adding an axes using the same arguments as a previous axes currently reuses the earlier instance.  In a future version, a new instance will always be created and returned.  Meanwhile, this warning can be suppressed, and the future behavior ensured, by passing a unique label to each axes instance.\n",
      "C:\\Users\\jhoel\\anaconda3\\lib\\site-packages\\ipykernel_launcher.py:85: MatplotlibDeprecationWarning: Adding an axes using the same arguments as a previous axes currently reuses the earlier instance.  In a future version, a new instance will always be created and returned.  Meanwhile, this warning can be suppressed, and the future behavior ensured, by passing a unique label to each axes instance.\n"
     ]
    },
    {
     "data": {
      "image/png": "[encoded data removed]",
      "text/plain": [
       "<Figure size 432x288 with 2 Axes>"
      ]
     },
     "metadata": {
      "needs_background": "light"
     },
     "output_type": "display_data"
    },
    {
     "name": "stdout",
     "output_type": "stream",
     "text": [
      "Precision: media=90.917 std=0.194, n=5\n"
     ]
    },
    {
     "data": {
      "image/png": "[encoded data removed]",
      "text/plain": [
       "<Figure size 432x288 with 1 Axes>"
      ]
     },
     "metadata": {
      "needs_background": "light"
     },
     "output_type": "display_data"
    },
    {
     "name": "stdout",
     "output_type": "stream",
     "text": [
      "1522.7194079\n"
     ]
    }
   ],
   "source": [
    "# corre y evalua el modelo\n",
    "def pruebas():\n",
    "    # Carga los datos para evaluar\n",
    "    trainX, trainY, testX, testY = lectura_datos()\n",
    "    # preparar los datos \n",
    "    trainX, testX = preparado_datos(trainX, testX)\n",
    "    # evaluar el modelo\n",
    "    scores, histories = evaluar_modelo(trainX, trainY)\n",
    "    # curvas de aprendizaje\n",
    "    diagnostico(histories)\n",
    "    # resumen de aprendizaje\n",
    "    performance(scores)\n",
    "\n",
    "#correr pruebas en grupo\n",
    "start = timer()\n",
    "pruebas()\n",
    "end = timer()\n",
    "print (end-start)"
   ]
  },
  {
   "cell_type": "code",
   "execution_count": null,
   "metadata": {},
   "outputs": [],
   "source": [
    "def cargar_imagen(filename):\n",
    "    # Cargar Imagen\n",
    "    img = load_img(filename, grayscale=True, target_size=(28, 28))\n",
    "    # Convertirlo en array\n",
    "    img = img_to_array(img)\n",
    "    # Convertirlo a forma de 1 canal\n",
    "    img = img.reshape(1, 28, 28, 1)\n",
    "    # Normalizar\n",
    "    img = img.astype('float32')\n",
    "    img = img / 255.0\n",
    "    return img\n",
    "\n",
    "#Cargar imagen\n",
    "img = cargar_imagen('imagen.png')\n",
    "#Predecir clase\n",
    "result = model.predict_classes(img)\n",
    "print(result[0])\n"
   ]
  },
  {
   "cell_type": "code",
   "execution_count": null,
   "metadata": {},
   "outputs": [],
   "source": []
  }
 ],
 "metadata": {
  "kernelspec": {
   "display_name": "Python 3",
   "language": "python",
   "name": "python3"
  },
  "language_info": {
   "codemirror_mode": {
    "name": "ipython",
    "version": 3
   },
   "file_extension": ".py",
   "mimetype": "text/x-python",
   "name": "python",
   "nbconvert_exporter": "python",
   "pygments_lexer": "ipython3",
   "version": "3.7.6"
  }
 },
 "nbformat": 4,
 "nbformat_minor": 4
}
